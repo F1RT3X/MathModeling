{
 "cells": [
  {
   "cell_type": "markdown",
   "id": "137ca617-40c7-4905-a2c3-6980f8525869",
   "metadata": {
    "jp-MarkdownHeadingCollapsed": true
   },
   "source": [
    "# Numpy"
   ]
  },
  {
   "cell_type": "code",
   "execution_count": 2,
   "id": "70893633-fc17-4798-8213-f9693ce3fcfb",
   "metadata": {},
   "outputs": [],
   "source": [
    "import numpy as np"
   ]
  },
  {
   "cell_type": "code",
   "execution_count": 7,
   "id": "cf4a220e-c382-49a8-bdbe-b61c3ba5878f",
   "metadata": {},
   "outputs": [],
   "source": [
    "a = np.array([1,2,3])\n",
    "a2 = np.array([[1,2,3],[4,5,6]])\n",
    "a3 = np.array([[[1,2,3],[4,5,6]], [[7,8,9],[10,11,12]]])"
   ]
  },
  {
   "cell_type": "code",
   "execution_count": 8,
   "id": "717ba47c-07af-4ba7-a468-d91801fc74bb",
   "metadata": {},
   "outputs": [
    {
     "name": "stdout",
     "output_type": "stream",
     "text": [
      "[1 2 3]\n"
     ]
    }
   ],
   "source": [
    "print(a)"
   ]
  },
  {
   "cell_type": "code",
   "execution_count": 9,
   "id": "afd308b6-bf92-4d03-a3b3-0656cf0b9e2a",
   "metadata": {},
   "outputs": [
    {
     "name": "stdout",
     "output_type": "stream",
     "text": [
      "[[1 2 3]\n",
      " [4 5 6]]\n"
     ]
    }
   ],
   "source": [
    "print(a2)"
   ]
  },
  {
   "cell_type": "code",
   "execution_count": 10,
   "id": "856d950c-df0c-47c7-a2a1-52bf5cfd81a6",
   "metadata": {},
   "outputs": [
    {
     "name": "stdout",
     "output_type": "stream",
     "text": [
      "[[[ 1  2  3]\n",
      "  [ 4  5  6]]\n",
      "\n",
      " [[ 7  8  9]\n",
      "  [10 11 12]]]\n"
     ]
    }
   ],
   "source": [
    "print(a3)"
   ]
  },
  {
   "cell_type": "code",
   "execution_count": 11,
   "id": "01ee0553-0caf-4f76-af00-3b1aadd8169b",
   "metadata": {},
   "outputs": [
    {
     "name": "stdout",
     "output_type": "stream",
     "text": [
      "[1.4 2.5 3.7]\n"
     ]
    }
   ],
   "source": [
    "b = np.array([1.4,2.5,3.7])\n",
    "print(b)"
   ]
  },
  {
   "cell_type": "code",
   "execution_count": 12,
   "id": "099bd08b-a51e-41f6-8e59-f8c220569b15",
   "metadata": {},
   "outputs": [
    {
     "name": "stdout",
     "output_type": "stream",
     "text": [
      "[1. 2. 3.]\n"
     ]
    }
   ],
   "source": [
    "c = np.array([1,2,3], dtype = 'float32')\n",
    "print(c)"
   ]
  },
  {
   "cell_type": "markdown",
   "id": "8faa931d-ef78-4d57-a45a-26aae40a479d",
   "metadata": {
    "jp-MarkdownHeadingCollapsed": true
   },
   "source": [
    "# Базовые функции"
   ]
  },
  {
   "cell_type": "code",
   "execution_count": 13,
   "id": "fd09a11e-a836-4f6e-9ad8-6df10e63088e",
   "metadata": {},
   "outputs": [
    {
     "name": "stdout",
     "output_type": "stream",
     "text": [
      "a:\n",
      "[1 2 3]\n",
      "b:\n",
      "[[1 2 3]\n",
      " [4 5 6]]\n",
      "с:\n",
      "[[[ 1  2  3]\n",
      "  [ 4  5  6]]\n",
      "\n",
      " [[ 7  8  9]\n",
      "  [10 11 12]]]\n"
     ]
    }
   ],
   "source": [
    "a = np.array([1,2,3], dtype = 'int32')\n",
    "\n",
    "b = np.array([[1,2,3],[4,5,6]])\n",
    "\n",
    "с = np.array([[[1,2,3],[4,5,6]], [[7,8,9],[10,11,12]]])\n",
    "print('a:')\n",
    "print(a)\n",
    "print('b:')\n",
    "print(b)\n",
    "print('с:')\n",
    "print(с)"
   ]
  },
  {
   "cell_type": "code",
   "execution_count": 14,
   "id": "4bd5b573-d000-4d2e-b78b-00b5d6c80be7",
   "metadata": {},
   "outputs": [
    {
     "name": "stdout",
     "output_type": "stream",
     "text": [
      "Количество имерений масcива a = 1\n",
      "Количество имерений масcива b = 2\n"
     ]
    }
   ],
   "source": [
    "# Узнать количетсво измерений\n",
    "print('Количество имерений масcива a =', a.ndim)\n",
    "print('Количество имерений масcива b =', b.ndim)"
   ]
  },
  {
   "cell_type": "code",
   "execution_count": 15,
   "id": "31f9dccc-7ae2-40d8-9a6e-b372eb083b0a",
   "metadata": {},
   "outputs": [
    {
     "name": "stdout",
     "output_type": "stream",
     "text": [
      "Вектор a имеет (3,) элементов\n",
      "Массив b имеет -  (2, 3)  - (строк,столбцов)\n",
      "Массив с имеет -  (2, 2, 3)  - в объекте \"c\" 2 трёхмерных массива с 2мя строками и 3мя столбцами\n"
     ]
    }
   ],
   "source": [
    "# Узнать количество строк и столбцов\n",
    "print('Вектор a имеет', a.shape,'элементов')\n",
    "print('Массив b имеет - ', b.shape, ' - (строк,столбцов)' )\n",
    "print('Массив с имеет - ', с.shape, ' - в объекте \"c\" 2 трёхмерных массива с 2мя строками и 3мя столбцами' )"
   ]
  },
  {
   "cell_type": "code",
   "execution_count": 16,
   "id": "1c72aad3-d66e-4eca-a83f-40dca2bbb074",
   "metadata": {},
   "outputs": [
    {
     "name": "stdout",
     "output_type": "stream",
     "text": [
      "Тип элементов массива a = int32\n"
     ]
    }
   ],
   "source": [
    "# Узнать тип элементов\n",
    "a = np.array([1,2,3], dtype = 'int32')\n",
    "\n",
    "print('Тип элементов массива a =', a.dtype)"
   ]
  },
  {
   "cell_type": "code",
   "execution_count": 17,
   "id": "2caac666-9be4-47e5-9a9d-2ed34a7a92ff",
   "metadata": {},
   "outputs": [
    {
     "name": "stdout",
     "output_type": "stream",
     "text": [
      "Кол-во эл-тов массива a = 3\n"
     ]
    }
   ],
   "source": [
    "# Узнать количество элементов\n",
    "a = np.array([1,2,3], dtype = 'int32')\n",
    "\n",
    "print('Кол-во эл-тов массива a =', a.size)"
   ]
  },
  {
   "cell_type": "code",
   "execution_count": 18,
   "id": "245d116e-eb37-4a0d-a3a6-3f22886ed33d",
   "metadata": {},
   "outputs": [
    {
     "name": "stdout",
     "output_type": "stream",
     "text": [
      "Вес одного элемента массива b = 2 байта\n",
      "Вес всего массива b = 12 байт\n"
     ]
    }
   ],
   "source": [
    "# Узнать кол-во байт в памяти\n",
    "b = np.array([[1,2,3],[4,5,6]], dtype='int16')\n",
    "\n",
    "print('Вес одного элемента массива b =', b.itemsize, 'байта')\n",
    "\n",
    "print('Вес всего массива b =', b.nbytes, 'байт')\n"
   ]
  },
  {
   "cell_type": "markdown",
   "id": "ac6cf8c7-dfe4-472d-a04d-04d97db77aae",
   "metadata": {
    "jp-MarkdownHeadingCollapsed": true
   },
   "source": [
    "# Доступ к элементам"
   ]
  },
  {
   "cell_type": "code",
   "execution_count": 19,
   "id": "190a7297-e63c-4d08-bc40-de2501c7d344",
   "metadata": {},
   "outputs": [
    {
     "name": "stdout",
     "output_type": "stream",
     "text": [
      "c:\n",
      "[[[ 1  2  3]\n",
      "  [ 4  5  6]]\n",
      "\n",
      " [[ 7  8  9]\n",
      "  [10 11 12]]]\n",
      "a:\n",
      "[[ 1  2  3  4  5  6  7]\n",
      " [ 8  9 10 11 12 13 14]]\n"
     ]
    }
   ],
   "source": [
    "a = np.array([[1, 2, 3, 4, 5, 6, 7], [8, 9, 10, 11, 12, 13, 14]])\n",
    "c = np.array([[[1, 2, 3], [4, 5, 6]], [[7, 8, 9], [10, 11, 12]]])\n",
    "\n",
    "print('c:')\n",
    "print(c)\n",
    "print('a:')\n",
    "print(a)"
   ]
  },
  {
   "cell_type": "code",
   "execution_count": 20,
   "id": "a63e8f97-fa0b-4c8e-b060-586c97da690d",
   "metadata": {},
   "outputs": [
    {
     "name": "stdout",
     "output_type": "stream",
     "text": [
      "Элемент первой строки, пятого места \"a\" = 5\n",
      "Элемент 2го двумерного массива, 2ой строки, 2го места \"c\" = 11\n"
     ]
    }
   ],
   "source": [
    "print('Элемент первой строки, пятого места \"a\" =', a[0, 4])\n",
    "print('Элемент 2го двумерного массива, 2ой строки, 2го места \"c\" =', c[1, 1, 1])"
   ]
  },
  {
   "cell_type": "code",
   "execution_count": 21,
   "id": "6ed23434-efb2-47c5-9833-51ff2570dc7a",
   "metadata": {},
   "outputs": [
    {
     "name": "stdout",
     "output_type": "stream",
     "text": [
      "a:\n",
      "[[ 1  2  3  4  5  6  7]\n",
      " [ 8  9 10 11 12 13 14]]\n",
      "Строка:\n",
      "[1 2 3 4 5 6 7]\n",
      "Столбец:\n",
      "[1 8]\n"
     ]
    }
   ],
   "source": [
    "# Обращение к целой строке/столбцу\n",
    "print('a:')\n",
    "print(a)\n",
    "\n",
    "print('Строка:')\n",
    "print(a[0, :])\n",
    "print('Столбец:')\n",
    "print(a[:, 0])"
   ]
  },
  {
   "cell_type": "code",
   "execution_count": 22,
   "id": "1b35028b-76bd-4f91-be4e-d6a6602d6899",
   "metadata": {},
   "outputs": [
    {
     "name": "stdout",
     "output_type": "stream",
     "text": [
      "[2 4]\n"
     ]
    }
   ],
   "source": [
    "# Оператор \":\"\n",
    "b = np.array([[1, 2, 3, 4], [5, 6, 7, 8]])\n",
    "\n",
    "print(b[0, 1:4:2]) # начальный_индекс = 1: конечный_индекс = 4: шаг = 2"
   ]
  },
  {
   "cell_type": "code",
   "execution_count": 23,
   "id": "1614feab-f0fe-428d-b22e-28d3187d2dfa",
   "metadata": {},
   "outputs": [
    {
     "name": "stdout",
     "output_type": "stream",
     "text": [
      "[ 8 11]\n"
     ]
    }
   ],
   "source": [
    "# Оператор \":\"\n",
    "a = np.array([[1, 2, 3, 4, 5, 6, 7], [8, 9, 10, 11, 12, 13, 14]])\n",
    "\n",
    "print(a[1, 0:-1:3]) # начальный_индекс = 0: конечный_индекс = -1(Последний элемент) == 6(не доходит): шаг = 3"
   ]
  },
  {
   "cell_type": "code",
   "execution_count": 24,
   "id": "d1f4caa0-1f37-4077-8cbe-415ccd5445f9",
   "metadata": {},
   "outputs": [
    {
     "name": "stdout",
     "output_type": "stream",
     "text": [
      "c:\n",
      "[[1 2]\n",
      " [4 6]]\n"
     ]
    }
   ],
   "source": [
    "# Изменение значений элементов\n",
    "c = np.array([[0, 2], \n",
    "              [4, 6]])\n",
    "c[0, 0] = 1\n",
    "\n",
    "print('c:')\n",
    "print(c)"
   ]
  },
  {
   "cell_type": "code",
   "execution_count": 25,
   "id": "10a67e59-9dbd-4a2b-b01f-7a73597778c2",
   "metadata": {},
   "outputs": [
    {
     "name": "stdout",
     "output_type": "stream",
     "text": [
      "[[3 3]\n",
      " [4 6]]\n"
     ]
    }
   ],
   "source": [
    "# Изменение значений элементов с помощью \":\"\n",
    "c = np.array([[0, 2], [4, 6]])\n",
    "\n",
    "c[0, :] = [3,3] # Первая строка, Вся - заменить на 3,3\n",
    "print(c)"
   ]
  },
  {
   "cell_type": "markdown",
   "id": "9d940790-09bb-4c2a-a982-57db54d7aaf1",
   "metadata": {
    "jp-MarkdownHeadingCollapsed": true
   },
   "source": [
    "# Создание специальных массивов"
   ]
  },
  {
   "cell_type": "code",
   "execution_count": 26,
   "id": "5e2a7ec6-7660-4dcb-905e-eb3e5c668ef6",
   "metadata": {},
   "outputs": [
    {
     "name": "stdout",
     "output_type": "stream",
     "text": [
      "a:\n",
      "[[0 0]\n",
      " [0 0]\n",
      " [0 0]]\n",
      "b:\n",
      "[0 0]\n"
     ]
    }
   ],
   "source": [
    "# Массив Нулей\n",
    "a = np.zeros((3, 2), dtype='int32') # По умолчанию присваивается тип float64\n",
    "b = np.zeros(2, dtype='int16')\n",
    "\n",
    "print('a:')\n",
    "print(a)\n",
    "print('b:')\n",
    "print(b)"
   ]
  },
  {
   "cell_type": "code",
   "execution_count": 27,
   "id": "fbf83450-689e-4cca-bc1b-b6ccaf869dc7",
   "metadata": {},
   "outputs": [
    {
     "name": "stdout",
     "output_type": "stream",
     "text": [
      "B - массив единиц: \n",
      "[[[1 1]\n",
      "  [1 1]\n",
      "  [1 1]]\n",
      "\n",
      " [[1 1]\n",
      "  [1 1]\n",
      "  [1 1]]\n",
      "\n",
      " [[1 1]\n",
      "  [1 1]\n",
      "  [1 1]]\n",
      "\n",
      " [[1 1]\n",
      "  [1 1]\n",
      "  [1 1]]]\n"
     ]
    }
   ],
   "source": [
    "# Массив из единиц\n",
    "b = np.ones((4, 3, 2), dtype='int32')\n",
    "\n",
    "print('B - массив единиц: ')\n",
    "print(b)"
   ]
  },
  {
   "cell_type": "code",
   "execution_count": 28,
   "id": "6b4e9885-94f6-45eb-bce8-a8c3b544723e",
   "metadata": {},
   "outputs": [
    {
     "name": "stdout",
     "output_type": "stream",
     "text": [
      "C:\n",
      "[[5 5 5]\n",
      " [5 5 5]]\n"
     ]
    }
   ],
   "source": [
    "# Массив из произвольных чисел\n",
    "c = np.full((2,3), 5, dtype='int16')\n",
    "\n",
    "print('C:')\n",
    "print(c)"
   ]
  },
  {
   "cell_type": "code",
   "execution_count": 29,
   "id": "e6434d9a-0d7e-45be-af26-539f94c1e580",
   "metadata": {},
   "outputs": [
    {
     "name": "stdout",
     "output_type": "stream",
     "text": [
      "[[0.11798029 0.60657983]\n",
      " [0.17133264 0.40834192]\n",
      " [0.86914869 0.33335398]]\n"
     ]
    }
   ],
   "source": [
    "# Массив случайных чисел Numpy\n",
    "d = np.random.rand(3, 2)\n",
    "\n",
    "# NumPy генерирует случайные числа в диапазоне от 0 до 1 с восемью знаками после запятой\n",
    "\n",
    "print(d)"
   ]
  },
  {
   "cell_type": "code",
   "execution_count": 30,
   "id": "af8ac623-d00c-428e-87c2-2c6d3aeebca3",
   "metadata": {},
   "outputs": [
    {
     "name": "stdout",
     "output_type": "stream",
     "text": [
      "[[-5  8 -3  3]\n",
      " [ 0 -3  2 -5]\n",
      " [ 8 -5 -5  3]\n",
      " [ 8  2  3  0]]\n"
     ]
    }
   ],
   "source": [
    "# Массив случайных чисел randint()\n",
    "\n",
    "e = np.random.randint(-5, 10, size=(4, 4))\n",
    "# Случайные значение от -5 до 10 в массиве 4х4\n",
    "\n",
    "print(e)"
   ]
  },
  {
   "cell_type": "code",
   "execution_count": 31,
   "id": "f71ede59-6a6f-4888-bedf-0fe1098f11a4",
   "metadata": {},
   "outputs": [
    {
     "name": "stdout",
     "output_type": "stream",
     "text": [
      "[[1 0 0 0]\n",
      " [0 1 0 0]\n",
      " [0 0 1 0]\n",
      " [0 0 0 1]]\n"
     ]
    }
   ],
   "source": [
    "# Единичная матрица\n",
    "i = np.identity(4, dtype='int16')\n",
    "\n",
    "print(i)"
   ]
  },
  {
   "cell_type": "markdown",
   "id": "0f6a39f3-0a45-4856-ada4-18069baefd3e",
   "metadata": {
    "jp-MarkdownHeadingCollapsed": true
   },
   "source": [
    "# Математические операции"
   ]
  },
  {
   "cell_type": "code",
   "execution_count": 32,
   "id": "7692ef6b-1d38-4bed-80df-72b0691f6ea5",
   "metadata": {},
   "outputs": [
    {
     "name": "stdout",
     "output_type": "stream",
     "text": [
      "a:\n",
      "[1 2 3 4] \n",
      "\n",
      "(a + 3):\n",
      "[4 5 6 7] \n",
      "\n",
      "(a - 2):\n",
      "[-1  0  1  2] \n",
      "\n",
      "(a * 2):\n",
      "[2 4 6 8] \n",
      "\n",
      "(a / 2):\n",
      "[0.5 1.  1.5 2. ] \n",
      "\n",
      "(a^2):\n",
      "[ 1  4  9 16] \n",
      "\n"
     ]
    }
   ],
   "source": [
    "# \"+\", \"-\", \"/\", \"*\", \"**\"\n",
    "a = np.array([1,2,3,4])\n",
    "\n",
    "print('a:')\n",
    "print(a,'\\n')\n",
    "\n",
    "print('(a + 3):')\n",
    "print(a + 3,'\\n')\n",
    "\n",
    "print('(a - 2):')\n",
    "print(a - 2,'\\n')\n",
    "\n",
    "print('(a * 2):')\n",
    "print(a * 2,'\\n')\n",
    "\n",
    "print('(a / 2):')\n",
    "print(a / 2,'\\n')\n",
    "\n",
    "print('(a^2):')\n",
    "print(a ** 2,'\\n')"
   ]
  },
  {
   "cell_type": "code",
   "execution_count": 33,
   "id": "d7a6550c-6849-4a89-8ca6-7c4569ad9e76",
   "metadata": {},
   "outputs": [
    {
     "name": "stdout",
     "output_type": "stream",
     "text": [
      "(a + b)\n",
      "[[ 6  8]\n",
      " [10 12]] \n",
      "\n",
      "(a * b)\n",
      "[[ 5 12]\n",
      " [21 32]] \n",
      "\n",
      "(a ** b)\n",
      "[[    1    64]\n",
      " [ 2187 65536]] \n",
      "\n"
     ]
    }
   ],
   "source": [
    "# МатОперации с Массивами\n",
    "a = np.array([[1, 2],\n",
    "              [3, 4]])\n",
    "b = np.array([[5, 6],\n",
    "              [7, 8]])\n",
    "\n",
    "print('(a + b)')\n",
    "print(a + b,'\\n')\n",
    "\n",
    "print('(a * b)')\n",
    "print(a * b,'\\n')\n",
    "\n",
    "print('(a ** b)')\n",
    "print(a ** b,'\\n')\n"
   ]
  },
  {
   "cell_type": "code",
   "execution_count": 34,
   "id": "a9a771ac-1f4a-4967-81d3-e9d4cad2606d",
   "metadata": {},
   "outputs": [
    {
     "name": "stdout",
     "output_type": "stream",
     "text": [
      "[[ 0.54030231 -0.41614684]\n",
      " [-0.9899925  -0.65364362]]\n"
     ]
    }
   ],
   "source": [
    "# Косинус\n",
    "a = np.array([[1,2],[3,4]])\n",
    "\n",
    "print(np.cos(a)) # \"a\" - в радианах"
   ]
  },
  {
   "cell_type": "code",
   "execution_count": 35,
   "id": "3096f9e8-85a7-41b4-8ba6-b266bd4758af",
   "metadata": {},
   "outputs": [
    {
     "name": "stdout",
     "output_type": "stream",
     "text": [
      "a:\n",
      "[[1 2 1]\n",
      " [2 2 2]] \n",
      "\n",
      "b:\n",
      "[[3 9]\n",
      " [9 5]\n",
      " [5 6]] \n",
      "\n",
      "c:\n",
      "[[26 25]\n",
      " [34 40]]\n"
     ]
    }
   ],
   "source": [
    "# ЛинАл умножение матриц\n",
    "a = np.random.randint(0, 3, size=(2,3), dtype='int32')\n",
    "b = np.random.randint(0,10, size=(3,2), dtype='int32')\n",
    "\n",
    "print('a:')\n",
    "print(a,'\\n')\n",
    "\n",
    "print('b:')\n",
    "print(b,'\\n')\n",
    "\n",
    "\n",
    "print('c:')\n",
    "print(np.matmul(a, b)) # Matrix Multiply - Умножение матриц\n"
   ]
  },
  {
   "cell_type": "markdown",
   "id": "af617fa2-5271-4623-9c61-d8be7984f972",
   "metadata": {
    "jp-MarkdownHeadingCollapsed": true
   },
   "source": [
    "# Копирование и организация"
   ]
  },
  {
   "cell_type": "code",
   "execution_count": 36,
   "id": "59bd85f5-fdd1-410e-bd5f-ae058dfa8d83",
   "metadata": {},
   "outputs": [
    {
     "name": "stdout",
     "output_type": "stream",
     "text": [
      "b:\n",
      "[5 2 3] \n",
      "\n",
      "a:\n",
      "[5 2 3]\n"
     ]
    }
   ],
   "source": [
    "# Numpy - ссылки на область в памяти\n",
    "a = np.array([1, 2, 3])\n",
    "\n",
    "# Создаём 'b' - клон 'a'\n",
    "b = a\n",
    "\n",
    "# Меняем значение b[0]\n",
    "b[0] = 5\n",
    "\n",
    "print('b:')\n",
    "print(b,'\\n')\n",
    "\n",
    "print('a:')\n",
    "print(a)\n",
    "\n",
    "# Замечаем, что обращение к ячейки памяти для массива осуществляется с помозью любой из переменных 'a' и 'b'"
   ]
  },
  {
   "cell_type": "code",
   "execution_count": 37,
   "id": "568ffbb9-2ae2-447b-82c3-1ac42534c13c",
   "metadata": {},
   "outputs": [
    {
     "name": "stdout",
     "output_type": "stream",
     "text": [
      "b:\n",
      "[5 2 3] \n",
      "\n",
      "a:\n",
      "[1 2 3] \n",
      "\n"
     ]
    }
   ],
   "source": [
    "# Создание независимой копии COPY\n",
    "a = np.array([1, 2, 3])\n",
    "b = a.copy()\n",
    "\n",
    "b[0] = 5\n",
    "\n",
    "print('b:')\n",
    "print(b,'\\n')\n",
    "\n",
    "print('a:')\n",
    "print(a,'\\n')"
   ]
  },
  {
   "cell_type": "code",
   "execution_count": 38,
   "id": "0b9260de-9f70-4041-b1dd-9ee85a5d2bdc",
   "metadata": {},
   "outputs": [
    {
     "name": "stdout",
     "output_type": "stream",
     "text": [
      "a:\n",
      "[[1 2 3 4]\n",
      " [5 6 7 8]] \n",
      "\n",
      "b:\n",
      "[[1 2]\n",
      " [3 4]\n",
      " [5 6]\n",
      " [7 8]] \n",
      "\n"
     ]
    }
   ],
   "source": [
    "# Изменение размера массива RESHAPE\n",
    "a = np.array([[1, 2, 3, 4], [5, 6, 7, 8]])\n",
    "\n",
    "print('a:')\n",
    "print(a,'\\n')\n",
    "\n",
    "b = a.reshape((4, 2))\n",
    "\n",
    "print('b:')\n",
    "print(b,'\\n')"
   ]
  },
  {
   "cell_type": "code",
   "execution_count": 39,
   "id": "358f5f65-cad6-46d6-8b1f-9373b9c8506b",
   "metadata": {},
   "outputs": [
    {
     "name": "stdout",
     "output_type": "stream",
     "text": [
      "v1: [1 2 3] \n",
      "\n",
      "v2: [9 8 7] \n",
      "\n",
      "vstack([v1, v2]):\n",
      "[[1 2 3]\n",
      " [9 8 7]]\n"
     ]
    }
   ],
   "source": [
    "# Наслаивание Массивов (Объединение) VSTACK HSTACK\n",
    "v1 = np.array([1, 2, 3])\n",
    "print('v1:', v1, '\\n')\n",
    "v2 = np.array([9, 8, 7])\n",
    "print('v2:', v2, '\\n')\n",
    "\n",
    "v3 = np.vstack([v1, v2]) # V_STACK - Vertical Stack строит вертикальную башню из массивов\n",
    "\n",
    "print('vstack([v1, v2]):')\n",
    "print(v3)"
   ]
  },
  {
   "cell_type": "code",
   "execution_count": 40,
   "id": "d6ff569c-7df8-46d8-a749-299a6bcdb03f",
   "metadata": {},
   "outputs": [
    {
     "name": "stdout",
     "output_type": "stream",
     "text": [
      "h1: \n",
      " [[1. 1. 1. 1.]\n",
      " [1. 1. 1. 1.]] \n",
      "\n",
      "h2: \n",
      " [[0. 0.]\n",
      " [0. 0.]] \n",
      "\n",
      "hstack([h1, h2]):\n",
      "[[1. 1. 1. 1. 0. 0.]\n",
      " [1. 1. 1. 1. 0. 0.]]\n"
     ]
    }
   ],
   "source": [
    "h1 = np.ones((2, 4))\n",
    "print('h1:','\\n', h1, '\\n')\n",
    "\n",
    "h2 = np.zeros((2, 2))\n",
    "print('h2:','\\n', h2, '\\n')\n",
    "\n",
    "h3 = np.hstack((h1, h2)) # H_STACK - Horisontal Stack строит горизонтальную башню из массивов\n",
    "\n",
    "print('hstack([h1, h2]):')\n",
    "print(h3)"
   ]
  },
  {
   "cell_type": "markdown",
   "id": "d546d761-89a4-4855-8d4b-554f448bee6a",
   "metadata": {
    "jp-MarkdownHeadingCollapsed": true
   },
   "source": [
    "# Дополнительные Возможности"
   ]
  },
  {
   "cell_type": "code",
   "execution_count": 41,
   "id": "025da3fc-5ec2-4310-ad2e-22f589659973",
   "metadata": {},
   "outputs": [
    {
     "name": "stdout",
     "output_type": "stream",
     "text": [
      "[[1 2 3 5 6 7]\n",
      " [8 1 4 2 6 4]\n",
      " [9 0 1 7 3 4]]\n"
     ]
    }
   ],
   "source": [
    "# Считывание данных из файла .txt\n",
    "filedata = np.genfromtxt('/Users/danil/Python Projects/data/data.txt', delimiter=',')\n",
    "filedata = filedata.astype('int32')\n",
    "\n",
    "print(filedata)"
   ]
  },
  {
   "cell_type": "code",
   "execution_count": 42,
   "id": "7f263fdb-8299-45c0-9523-1721ffc75040",
   "metadata": {},
   "outputs": [
    {
     "name": "stdout",
     "output_type": "stream",
     "text": [
      "a:\n",
      "[[1 5 8]\n",
      " [3 4 2]] \n",
      "\n",
      "(a > 5):\n",
      "[[False False  True]\n",
      " [False False False]]\n"
     ]
    }
   ],
   "source": [
    "# Булевы Операции\n",
    "a = np.array([[1, 5, 8], [3, 4, 2]])\n",
    "\n",
    "print('a:')\n",
    "print(a,'\\n')\n",
    "\n",
    "print('(a > 5):')\n",
    "print(a > 5)"
   ]
  },
  {
   "cell_type": "code",
   "execution_count": 43,
   "id": "6e5bfb4e-fb2a-49f5-b317-375868136032",
   "metadata": {},
   "outputs": [
    {
     "name": "stdout",
     "output_type": "stream",
     "text": [
      "a:\n",
      "[[1 5 8]\n",
      " [3 4 2]\n",
      " [2 6 7]] \n",
      "\n",
      "\"a\" только из элементов > 3: \n",
      "\n",
      "a[a > 3]: [5 8 4 6 7]\n"
     ]
    }
   ],
   "source": [
    "a = np.array([[1, 5, 8], [3, 4, 2], [2, 6, 7]])\n",
    "\n",
    "print('a:')\n",
    "print(a,'\\n')\n",
    "\n",
    "print('\"a\" только из элементов > 3: \\n')\n",
    "print('a[a > 3]:', a[a > 3])"
   ]
  },
  {
   "cell_type": "markdown",
   "id": "27d3008c-7cbf-4946-8293-2b5cf078c559",
   "metadata": {},
   "source": [
    "# Лаб"
   ]
  },
  {
   "cell_type": "markdown",
   "id": "50101535-81ce-468e-9e4b-86dcf1023d97",
   "metadata": {
    "jp-MarkdownHeadingCollapsed": true
   },
   "source": [
    "## Exercise 1"
   ]
  },
  {
   "cell_type": "code",
   "execution_count": 44,
   "id": "874386e1-f292-4d59-8dca-133fffb07c5a",
   "metadata": {},
   "outputs": [
    {
     "name": "stdout",
     "output_type": "stream",
     "text": [
      "[-1.3        -1.23968254 -1.17936508 -1.11904762 -1.05873016 -0.9984127\n",
      " -0.93809524 -0.87777778 -0.81746032 -0.75714286 -0.6968254  -0.63650794\n",
      " -0.57619048 -0.51587302 -0.45555556 -0.3952381  -0.33492063 -0.27460317\n",
      " -0.21428571 -0.15396825 -0.09365079 -0.03333333  0.02698413  0.08730159\n",
      "  0.14761905  0.20793651  0.26825397  0.32857143  0.38888889  0.44920635\n",
      "  0.50952381  0.56984127  0.63015873  0.69047619  0.75079365  0.81111111\n",
      "  0.87142857  0.93174603  0.99206349  1.05238095  1.11269841  1.17301587\n",
      "  1.23333333  1.29365079  1.35396825  1.41428571  1.47460317  1.53492063\n",
      "  1.5952381   1.65555556  1.71587302  1.77619048  1.83650794  1.8968254\n",
      "  1.95714286  2.01746032  2.07777778  2.13809524  2.1984127   2.25873016\n",
      "  2.31904762  2.37936508  2.43968254  2.5       ]\n"
     ]
    }
   ],
   "source": [
    "# 1) Создайте равномерное разбиение интервала от -1.3 до 2.5 на 64 отрезка.\n",
    "a = np.linspace(-1.3, 2.5, 64)\n",
    "print(a)"
   ]
  },
  {
   "cell_type": "code",
   "execution_count": 45,
   "id": "9841117d-7418-49b7-919c-21838ad70024",
   "metadata": {},
   "outputs": [
    {
     "name": "stdout",
     "output_type": "stream",
     "text": [
      "b: [1, 2, 3] \n",
      "\n",
      "b: [1 2 3 1 2 3 1 2 3 1 2 3 1 2 3]\n"
     ]
    }
   ],
   "source": [
    "# 2) Сгенерировать numpy массив длины 3n, заполненный циклически числами 1, 2, 3, 1, 2, 3, 1....\n",
    "b = [1,2,3]\n",
    "print('b:', b, '\\n')\n",
    "\n",
    "n = 5\n",
    "b1 = b.copy()\n",
    "\n",
    "for i in range(n-1):\n",
    "    b = np.hstack((b,b1))\n",
    "    \n",
    "print('b:', b)"
   ]
  },
  {
   "cell_type": "code",
   "execution_count": 46,
   "id": "67825bd4-7124-43f2-9430-8f25381287d3",
   "metadata": {},
   "outputs": [
    {
     "name": "stdout",
     "output_type": "stream",
     "text": [
      "d: [ 1  3  5  7  9 11 13 15 17 19]\n"
     ]
    }
   ],
   "source": [
    "# 3) Создайте массив первых 10 нечетных целых чисел.\n",
    "d = np.arange(1,101,1)\n",
    "d = d[d % 2 != 0]\n",
    "d = d[0:10]\n",
    "print('d:', d)"
   ]
  },
  {
   "cell_type": "code",
   "execution_count": 47,
   "id": "0e34134a-b73d-4482-95bb-9cfe52fc04c4",
   "metadata": {},
   "outputs": [
    {
     "name": "stdout",
     "output_type": "stream",
     "text": [
      "[[1 1 1 1 1 1 1 1 1 1]\n",
      " [1 0 0 0 0 0 0 0 0 1]\n",
      " [1 0 0 0 0 0 0 0 0 1]\n",
      " [1 0 0 0 0 0 0 0 0 1]\n",
      " [1 0 0 0 0 0 0 0 0 1]\n",
      " [1 0 0 0 0 0 0 0 0 1]\n",
      " [1 0 0 0 0 0 0 0 0 1]\n",
      " [1 0 0 0 0 0 0 0 0 1]\n",
      " [1 0 0 0 0 0 0 0 0 1]\n",
      " [1 1 1 1 1 1 1 1 1 1]]\n"
     ]
    }
   ],
   "source": [
    "# 4) Создайте массив нулей размера 10 x 10, а затем создайте в нём \"рамку\" из единиц по краям.\n",
    "zero = np.zeros((10, 10), dtype='int32')\n",
    "zero[0,:] = 1\n",
    "zero[:,0] = 1\n",
    "zero[9,:] = 1\n",
    "zero[:,9] = 1\n",
    "print(zero)"
   ]
  },
  {
   "cell_type": "code",
   "execution_count": 48,
   "id": "f28f8a40-f5ef-40bb-b4e9-5a6e24d78815",
   "metadata": {},
   "outputs": [
    {
     "name": "stdout",
     "output_type": "stream",
     "text": [
      "[[0 1 0 1 0 1 0 1]\n",
      " [1 0 1 0 1 0 1 0]\n",
      " [0 1 0 1 0 1 0 1]\n",
      " [1 0 1 0 1 0 1 0]\n",
      " [0 1 0 1 0 1 0 1]\n",
      " [1 0 1 0 1 0 1 0]\n",
      " [0 1 0 1 0 1 0 1]\n",
      " [1 0 1 0 1 0 1 0]]\n"
     ]
    }
   ],
   "source": [
    "# 5) Создайте массив 8 x 8 с шахматной доской из нулей и единиц.\n",
    "\n",
    "def chess_creation(matrix):\n",
    "    for i in range (len(matrix)):\n",
    "        for j in range (len(matrix)):\n",
    "            if ((i+j) % 2 != 0):\n",
    "                matrix[i,j] = 1\n",
    "            else:\n",
    "                matrix[i,j] = 0\n",
    "    return(matrix)\n",
    "    \n",
    "chess = np.zeros((8,8), dtype ='int32')\n",
    "chess = chess_creation(chess)\n",
    "print(chess)"
   ]
  },
  {
   "cell_type": "code",
   "execution_count": 49,
   "id": "689ff6b6-d464-4c52-ae13-b97645aa0039",
   "metadata": {},
   "outputs": [
    {
     "name": "stdout",
     "output_type": "stream",
     "text": [
      "[[ 0  1  2  3  4  5  6  7  8  9]\n",
      " [ 1  2  3  4  5  6  7  8  9 10]\n",
      " [ 2  3  4  5  6  7  8  9 10 11]\n",
      " [ 3  4  5  6  7  8  9 10 11 12]\n",
      " [ 4  5  6  7  8  9 10 11 12 13]\n",
      " [ 5  6  7  8  9 10 11 12 13 14]\n",
      " [ 6  7  8  9 10 11 12 13 14 15]\n",
      " [ 7  8  9 10 11 12 13 14 15 16]\n",
      " [ 8  9 10 11 12 13 14 15 16 17]\n",
      " [ 9 10 11 12 13 14 15 16 17 18]]\n"
     ]
    }
   ],
   "source": [
    "# 6) Создайте функцию, которая создает n×n матрицу с (i,j) - элементом, равным i+j.\n",
    "def mat_create(n):\n",
    "    mas = np.zeros((n,n), dtype='int32')\n",
    "    for i in range(n):\n",
    "        for j in range(n):\n",
    "            mas[i,j] = i+j\n",
    "    return(mas)\n",
    "\n",
    "\n",
    "n = 10\n",
    "mat_ij = mat_create(n)\n",
    "\n",
    "print(mat_ij)"
   ]
  },
  {
   "cell_type": "markdown",
   "id": "7d525f23-816b-41a6-8d1a-63bcd19039fc",
   "metadata": {
    "jp-MarkdownHeadingCollapsed": true
   },
   "source": [
    "## Exercise 2"
   ]
  },
  {
   "cell_type": "code",
   "execution_count": 50,
   "id": "f80661f4-1aab-46bf-b724-888c60611aca",
   "metadata": {},
   "outputs": [],
   "source": [
    "import matplotlib.pyplot as plt"
   ]
  },
  {
   "cell_type": "code",
   "execution_count": 51,
   "id": "46042269-0eb7-440c-bac4-f5b44a4981c2",
   "metadata": {},
   "outputs": [
    {
     "data": {
      "image/png": "[encoded data removed]",
      "text/plain": [
       "<Figure size 640x480 with 1 Axes>"
      ]
     },
     "metadata": {},
     "output_type": "display_data"
    }
   ],
   "source": [
    "# 1) Создайте график x^2 ⋅ sin(1 / x^2) + x на интервале [−1;1], используя 250 точек. Не забудьте пометить оси!\n",
    "x = np.linspace(-1,1,250)\n",
    "y = (x**2 * np.sin(1/(x**2)) + x)\n",
    "plt.plot(x, y, color='blue')\n",
    "plt.xlabel('Ось х') #Подпись для оси х\n",
    "plt.ylabel('Ось y') #Подпись для оси y\n",
    "plt.title('x^2 ⋅ sin(1 / x^2) + x') #Название\n",
    "plt.grid(True)\n",
    "plt.show()"
   ]
  },
  {
   "cell_type": "code",
   "execution_count": 52,
   "id": "a43d49e3-2799-4c10-8776-e8e98effb899",
   "metadata": {},
   "outputs": [
    {
     "data": {
      "image/png": "[encoded data removed]",
      "text/plain": [
       "<Figure size 640x480 with 1 Axes>"
      ]
     },
     "metadata": {},
     "output_type": "display_data"
    }
   ],
   "source": [
    "# 2) Создайте semilogy график (с логарифмической шкалой для оси y и линейной шкалой для оси x) относительной разницы функций\n",
    "#    1/(1+x^2) и 1/x^2 на интервале [5;25]. От-ная разница = | 1 - a/b |.\n",
    "\n",
    "def f1(x):\n",
    "    return 1 / (1 + x**2)\n",
    "\n",
    "def f2(x):\n",
    "    return 1 / x**2\n",
    "\n",
    "a = 5\n",
    "b = 25\n",
    "\n",
    "x = np.linspace(a, b, 100)\n",
    "y1 = f1(x)\n",
    "y2 = f2(x)\n",
    "\n",
    "y_diff = np.abs(1 - y1 / y2)\n",
    "\n",
    "plt.semilogy(x, y_diff)\n",
    "plt.xlabel('x')\n",
    "plt.ylabel('Относительная разница')\n",
    "plt.title('Относительная разница функций 1/(1+x^2) и 1/x^2 на интервале [5, 25]')\n",
    "plt.grid(True)\n",
    "plt.show()"
   ]
  },
  {
   "cell_type": "code",
   "execution_count": 64,
   "id": "a4536741-a7d7-462e-88c6-33eea9dfd19f",
   "metadata": {},
   "outputs": [
    {
     "data": {
      "image/png": "[encoded data removed]",
      "text/plain": [
       "<Figure size 640x480 with 1 Axes>"
      ]
     },
     "metadata": {},
     "output_type": "display_data"
    }
   ],
   "source": [
    "# 3)В Scipy также есть много менее распространенных специальных функций. Взгляните на обширный список здесь! \n",
    "#   Выберите несколько интересных спец функций, которые вы знаете (или, может быть, не знаете), \n",
    "#   подставьте несколько чисел и начертите их.\n",
    "\n",
    "from scipy.special import elliprc\n",
    "\n",
    "m = 2\n",
    "n = 3\n",
    "x = np.linspace(0, 10, 100)\n",
    "\n",
    "y = elliprc(m, n, x)\n",
    "\n",
    "plt.figure()\n",
    "plt.plot(x, y, color=\"blue\")\n",
    "plt.xlabel('x')\n",
    "plt.ylabel('Значение функции elliprc')\n",
    "plt.title('График функции elliprc')\n",
    "plt.grid(True)\n",
    "plt.show()"
   ]
  },
  {
   "cell_type": "code",
   "execution_count": 68,
   "id": "37737b89-5c28-4461-9f38-54ea91c86f3c",
   "metadata": {},
   "outputs": [
    {
     "data": {
      "image/png": "[encoded data removed]",
      "text/plain": [
       "<Figure size 640x480 with 2 Axes>"
      ]
     },
     "metadata": {},
     "output_type": "display_data"
    }
   ],
   "source": [
    "# 4) Создайте цветовой график sin(x)sin(y) на интервале [−π,π]×[−π,π].\n",
    "import numpy as np\n",
    "import matplotlib.pyplot as plt\n",
    "\n",
    "x = np.linspace(-np.pi, np.pi, 100)\n",
    "y = np.linspace(-np.pi, np.pi, 100)\n",
    "\n",
    "X, Y = np.meshgrid(x, y)\n",
    "Z = np.sin(X) * np.sin(Y)\n",
    "\n",
    "plt.figure()\n",
    "plt.contourf(X, Y, Z, levels=20, cmap='viridis')\n",
    "plt.colorbar()\n",
    "plt.xlabel('x')\n",
    "plt.ylabel('y')\n",
    "plt.title('График sin(x)sin(y)')\n",
    "plt.grid(True)\n",
    "plt.show()"
   ]
  },
  {
   "cell_type": "markdown",
   "id": "cc26a4fd-e250-458c-8252-db6af43383b4",
   "metadata": {},
   "source": [
    "## Exsercise 3"
   ]
  },
  {
   "cell_type": "code",
   "execution_count": 9,
   "id": "9a172ca6-6779-4557-9f81-8b7a3ca0f3be",
   "metadata": {},
   "outputs": [
    {
     "name": "stdout",
     "output_type": "stream",
     "text": [
      "[[0.         0.05260728 0.10506887 0.15723948 0.20897462 0.26013102\n",
      "  0.310567   0.36014289 0.40872137 0.45616793 0.50235115 0.54714315\n",
      "  0.59041986 0.63206143 0.67195255 0.70998273 0.74604665 0.78004444\n",
      "  0.81188195 0.84147098]\n",
      " [1.         0.99861528 0.99446495 0.9875605  0.97792106 0.96557333\n",
      "  0.95055149 0.93289715 0.91265921 0.88989371 0.8646637  0.83703905\n",
      "  0.80709627 0.77491828 0.7405942  0.70421909 0.66589368 0.62572411\n",
      "  0.58382164 0.54030231]]\n"
     ]
    }
   ],
   "source": [
    "# 1) Вычислите cos(x) и sin(x) на интервале [0,1] с шагом 0.05, а затем объедините оба массива чисел как строки в один массив.\n",
    "\n",
    "x = np.linspace(0,1,20)\n",
    "\n",
    "def fsin(x):\n",
    "    f = np.sin(x)\n",
    "    return(f)\n",
    "    \n",
    "def fcos(x):\n",
    "    f = np.cos(x)\n",
    "    return(f)\n",
    "\n",
    "f = fsin(x)\n",
    "g = fcos(x)\n",
    "fg = np.vstack((f,g))\n",
    "print(fg)"
   ]
  },
  {
   "cell_type": "code",
   "execution_count": 23,
   "id": "14b1968f-2e55-4e15-bff9-6c18cfe6f102",
   "metadata": {},
   "outputs": [
    {
     "name": "stdout",
     "output_type": "stream",
     "text": [
      "a:\n",
      "[[0.90304716 0.92107341 0.65122941 0.51620555 0.7493649 ]\n",
      " [0.49818032 0.45538225 0.02295156 0.24536255 0.60438847]\n",
      " [0.8659599  0.41463357 0.98639689 0.27296384 0.01192332]] \n",
      "\n",
      "Сумма всех эл-тов: 8.119063095250572 \n",
      "\n",
      "Сумма строк:\n",
      "[[3.7409205]\n",
      " [1.8262651]\n",
      " [2.5518775]] \n",
      "\n",
      "Сумма столбцов:\n",
      "[[2.2671874 1.7910892 1.6605779 1.034532  1.3656766]] \n",
      "\n"
     ]
    }
   ],
   "source": [
    "# 2) Создайте случайный массив 3×5 с помощью функции np.random.rand(3, 5) и вычислите: \n",
    "#    сумму всех элементов, сумму строк и сумму столбцов. \n",
    "\n",
    "a = np.random.rand(3, 5)\n",
    "print('a:')\n",
    "print(a,'\\n')\n",
    "\n",
    "b = np.sum(a)\n",
    "print('Сумма всех эл-тов:',b,'\\n')\n",
    "\n",
    "s = np.zeros((3,1), dtype='float32')\n",
    "\n",
    "for i in range(3):\n",
    "    s[i,0] = np.sum(a[i,:])\n",
    "    \n",
    "print('Сумма строк:')\n",
    "print(s,'\\n')\n",
    "\n",
    "stb = np.zeros((1,5), dtype='float32')\n",
    "\n",
    "for i in range(5):\n",
    "    stb[0,i] = np.sum(a[:,i])\n",
    "    \n",
    "print('Сумма столбцов:')\n",
    "print(stb,'\\n')\n"
   ]
  },
  {
   "cell_type": "code",
   "execution_count": 24,
   "id": "c4a083de-be50-40d8-a65f-f4244cd5d8d0",
   "metadata": {},
   "outputs": [
    {
     "name": "stdout",
     "output_type": "stream",
     "text": [
      "Исходный массив:\n",
      "[[0.25708236 0.40554372 0.77527064 0.45789146 0.86424134]\n",
      " [0.4800112  0.95616153 0.79558715 0.4597775  0.20135568]\n",
      " [0.00185522 0.39887956 0.85219274 0.58948743 0.645918  ]\n",
      " [0.39056579 0.03178206 0.52148837 0.25018832 0.63638913]\n",
      " [0.33228277 0.07133896 0.03390063 0.16191905 0.74045548]] \n",
      "\n",
      "Сортированный массив:\n",
      "[[0.39056579 0.03178206 0.52148837 0.25018832 0.63638913]\n",
      " [0.33228277 0.07133896 0.03390063 0.16191905 0.74045548]\n",
      " [0.00185522 0.39887956 0.85219274 0.58948743 0.645918  ]\n",
      " [0.25708236 0.40554372 0.77527064 0.45789146 0.86424134]\n",
      " [0.4800112  0.95616153 0.79558715 0.4597775  0.20135568]]\n"
     ]
    }
   ],
   "source": [
    "# 3) Создайте случайный массив 5×5, используя функцию np.random.rand(5, 5). \n",
    "#    Отсортируйте строки по второму столбцу. Используйте для этого slicing + argsort + indexing.\n",
    "\n",
    "arr = np.random.rand(5, 5)\n",
    "\n",
    "i = np.argsort(arr[:, 1])\n",
    "\n",
    "sorted_arr = arr[i]\n",
    "\n",
    "print(\"Исходный массив:\")\n",
    "print(arr, '\\n')\n",
    "\n",
    "print(\"Сортированный массив:\")\n",
    "print(sorted_arr)"
   ]
  },
  {
   "cell_type": "code",
   "execution_count": null,
   "id": "4856a502-7aae-4171-a52f-0ca50c0f1769",
   "metadata": {},
   "outputs": [],
   "source": []
  }
 ],
 "metadata": {
  "kernelspec": {
   "display_name": "Python 3 (ipykernel)",
   "language": "python",
   "name": "python3"
  },
  "language_info": {
   "codemirror_mode": {
    "name": "ipython",
    "version": 3
   },
   "file_extension": ".py",
   "mimetype": "text/x-python",
   "name": "python",
   "nbconvert_exporter": "python",
   "pygments_lexer": "ipython3",
   "version": "3.11.7"
  }
 },
 "nbformat": 4,
 "nbformat_minor": 5
}
